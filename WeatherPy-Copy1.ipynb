{
 "cells": [
  {
   "cell_type": "markdown",
   "metadata": {},
   "source": [
    "# WeatherPy\n",
    "----\n",
    "\n",
    "#### Note\n",
    "* Instructions have been included for each segment. You do not have to follow them exactly, but they are included to help you think through the steps."
   ]
  },
  {
   "cell_type": "code",
   "execution_count": 11,
   "metadata": {
    "scrolled": true
   },
   "outputs": [],
   "source": [
    "# Dependencies and Setup\n",
    "import matplotlib.pyplot as plt\n",
    "import pandas as pd\n",
    "import numpy as np\n",
    "import requests\n",
    "import time\n",
    "import urllib\n",
    "\n",
    "# Import API key\n",
    "from api_keys import api_key\n",
    "\n",
    "# Incorporated citipy to determine city based on latitude and longitude\n",
    "from citipy import citipy\n",
    "\n",
    "# Output File (CSV)\n",
    "output_data_file = \"output_data/cities.csv\"\n",
    "\n",
    "# Range of latitudes and longitudes\n",
    "lat_range = (-90, 90)\n",
    "lng_range = (-180, 180)"
   ]
  },
  {
   "cell_type": "markdown",
   "metadata": {},
   "source": [
    "## Generate Cities List"
   ]
  },
  {
   "cell_type": "code",
   "execution_count": 12,
   "metadata": {},
   "outputs": [
    {
     "data": {
      "text/plain": [
       "646"
      ]
     },
     "execution_count": 12,
     "metadata": {},
     "output_type": "execute_result"
    }
   ],
   "source": [
    "# List for holding lat_lngs and cities\n",
    "lat_lngs = []\n",
    "cities = []\n",
    "cloudiness = []\n",
    "country = []\n",
    "Date = []\n",
    "Humidity = []\n",
    "Temp = []\n",
    "Lat = []\n",
    "Lng = []\n",
    "Wind_Speed = []\n",
    "\n",
    "\n",
    "# Create a set of random lat and lng combinations\n",
    "lats = np.random.uniform(low=-90.000, high=90.000, size=1500)\n",
    "lngs = np.random.uniform(low=-180.000, high=180.000, size=1500)\n",
    "lat_lngs = zip(lats, lngs)\n",
    "\n",
    "# Identify nearest city for each lat, lng combination\n",
    "for lat_lng in lat_lngs:\n",
    "    city = citipy.nearest_city(lat_lng[0], lat_lng[1]).city_name\n",
    "    \n",
    "    # If the city is unique, then add it to a our cities list\n",
    "    if city not in cities:\n",
    "        cities.append(city)\n",
    "\n",
    "# Print the city count to confirm sufficient count\n",
    "len(cities)"
   ]
  },
  {
   "cell_type": "markdown",
   "metadata": {},
   "source": [
    "### Perform API Calls\n",
    "* Perform a weather check on each city using a series of successive API calls.\n",
    "* Include a print log of each city as it'sbeing processed (with the city number and city name).\n"
   ]
  },
  {
   "cell_type": "code",
   "execution_count": 13,
   "metadata": {},
   "outputs": [
    {
     "name": "stdout",
     "output_type": "stream",
     "text": [
      "------------------------\n",
      "Beginning Data Retrieval\n",
      "------------------------\n",
      "cabo san lucas\n",
      "{'coord': {'lon': -109.91, 'lat': 22.89}, 'weather': [{'id': 803, 'main': 'Clouds', 'description': 'broken clouds', 'icon': '04n'}], 'base': 'stations', 'main': {'temp': 302.3, 'pressure': 1014, 'humidity': 78, 'temp_min': 299.82, 'temp_max': 305.93}, 'visibility': 16093, 'wind': {'speed': 3.6, 'deg': 120}, 'clouds': {'all': 75}, 'dt': 1564100591, 'sys': {'type': 1, 'id': 7151, 'message': 0.0064, 'country': 'MX', 'sunrise': 1564058847, 'sunset': 1564106674}, 'timezone': -21600, 'id': 3985710, 'name': 'Cabo San Lucas', 'cod': 200}\n",
      "-------------------------\n",
      "Data Retrieval Complete\n",
      "-------------------------\n",
      "puerto ayora\n",
      "{'coord': {'lon': -90.35, 'lat': -0.74}, 'weather': [{'id': 801, 'main': 'Clouds', 'description': 'few clouds', 'icon': '02n'}], 'base': 'stations', 'main': {'temp': 294.85, 'pressure': 1013, 'humidity': 69, 'temp_min': 293.71, 'temp_max': 296.15}, 'visibility': 10000, 'wind': {'speed': 8.7, 'deg': 140}, 'clouds': {'all': 20}, 'dt': 1564100566, 'sys': {'type': 1, 'id': 8521, 'message': 0.0068, 'country': 'EC', 'sunrise': 1564056318, 'sunset': 1564099814}, 'timezone': -21600, 'id': 3652764, 'name': 'Puerto Ayora', 'cod': 200}\n",
      "-------------------------\n",
      "Data Retrieval Complete\n",
      "-------------------------\n",
      "tuktoyaktuk\n",
      "{'coord': {'lon': -133.03, 'lat': 69.44}, 'weather': [{'id': 802, 'main': 'Clouds', 'description': 'scattered clouds', 'icon': '03n'}], 'base': 'stations', 'main': {'temp': 286.15, 'pressure': 1013, 'humidity': 54, 'temp_min': 286.15, 'temp_max': 286.15}, 'visibility': 24140, 'wind': {'speed': 10.8, 'deg': 70}, 'clouds': {'all': 40}, 'dt': 1564100761, 'sys': {'type': 1, 'id': 942, 'message': 0.0099, 'country': 'CA', 'sunrise': 1564046486, 'sunset': 1564130133}, 'timezone': -21600, 'id': 6170031, 'name': 'Tuktoyaktuk', 'cod': 200}\n",
      "-------------------------\n",
      "Data Retrieval Complete\n",
      "-------------------------\n",
      "ponta delgada\n",
      "{'coord': {'lon': -25.67, 'lat': 37.73}, 'weather': [{'id': 801, 'main': 'Clouds', 'description': 'few clouds', 'icon': '02n'}], 'base': 'stations', 'main': {'temp': 292.15, 'pressure': 1027, 'humidity': 72, 'temp_min': 292.15, 'temp_max': 292.15}, 'visibility': 10000, 'wind': {'speed': 2.6, 'deg': 340}, 'clouds': {'all': 20}, 'dt': 1564100761, 'sys': {'type': 1, 'id': 6899, 'message': 0.0097, 'country': 'PT', 'sunrise': 1564123252, 'sunset': 1564174634}, 'timezone': 0, 'id': 3372783, 'name': 'Ponta Delgada', 'cod': 200}\n",
      "-------------------------\n",
      "Data Retrieval Complete\n",
      "-------------------------\n",
      "mataura\n",
      "{'coord': {'lon': 168.86, 'lat': -46.19}, 'weather': [{'id': 804, 'main': 'Clouds', 'description': 'overcast clouds', 'icon': '04d'}], 'base': 'stations', 'main': {'temp': 285.37, 'pressure': 1022, 'humidity': 81, 'temp_min': 285.37, 'temp_max': 285.37}, 'wind': {'speed': 0.45, 'deg': 40, 'gust': 1.34}, 'clouds': {'all': 96}, 'dt': 1564100762, 'sys': {'type': 3, 'id': 2008959, 'message': 0.0084, 'country': 'NZ', 'sunrise': 1564085558, 'sunset': 1564118954}, 'timezone': 43200, 'id': 6201424, 'name': 'Mataura', 'cod': 200}\n",
      "-------------------------\n",
      "Data Retrieval Complete\n",
      "-------------------------\n",
      "jamestown\n",
      "{'coord': {'lon': 138.6, 'lat': -33.21}, 'weather': [{'id': 500, 'main': 'Rain', 'description': 'light rain', 'icon': '10d'}], 'base': 'stations', 'main': {'temp': 284.646, 'pressure': 1022.46, 'humidity': 77, 'temp_min': 284.646, 'temp_max': 284.646, 'sea_level': 1022.46, 'grnd_level': 985.66}, 'wind': {'speed': 2.96, 'deg': 310.264}, 'rain': {'3h': 0.25}, 'clouds': {'all': 100}, 'dt': 1564100762, 'sys': {'message': 0.009, 'country': 'AU', 'sunrise': 1564090891, 'sunset': 1564128146}, 'timezone': 34200, 'id': 2069194, 'name': 'Jamestown', 'cod': 200}\n",
      "-------------------------\n",
      "Data Retrieval Complete\n",
      "-------------------------\n",
      "honningsvag\n",
      "{'coord': {'lon': 25.97, 'lat': 70.98}, 'weather': [{'id': 500, 'main': 'Rain', 'description': 'light rain', 'icon': '10d'}], 'base': 'stations', 'main': {'temp': 283.446, 'pressure': 1017.7, 'humidity': 91, 'temp_min': 283.446, 'temp_max': 283.446, 'sea_level': 1017.7, 'grnd_level': 1014.43}, 'wind': {'speed': 1.96, 'deg': 107.101}, 'rain': {'3h': 0.375}, 'clouds': {'all': 100}, 'dt': 1564100722, 'sys': {'message': 0.0065, 'country': 'NO', 'sunrise': 0, 'sunset': 0}, 'timezone': 7200, 'id': 779554, 'name': 'Honningsvag', 'cod': 200}\n",
      "-------------------------\n",
      "Data Retrieval Complete\n",
      "-------------------------\n",
      "severo-kurilsk\n",
      "{'coord': {'lon': 156.12, 'lat': 50.68}, 'weather': [{'id': 800, 'main': 'Clear', 'description': 'clear sky', 'icon': '01d'}], 'base': 'stations', 'main': {'temp': 282.206, 'pressure': 1014.78, 'humidity': 82, 'temp_min': 282.206, 'temp_max': 282.206, 'sea_level': 1014.78, 'grnd_level': 1014.81}, 'wind': {'speed': 6.5, 'deg': 116.845}, 'clouds': {'all': 0}, 'dt': 1564100763, 'sys': {'message': 0.0093, 'country': 'RU', 'sunrise': 1564077159, 'sunset': 1564133468}, 'timezone': 39600, 'id': 2121385, 'name': 'Severo-Kurilsk', 'cod': 200}\n",
      "-------------------------\n",
      "Data Retrieval Complete\n",
      "-------------------------\n",
      "chuguyevka\n",
      "{'coord': {'lon': 133.87, 'lat': 44.17}, 'weather': [{'id': 500, 'main': 'Rain', 'description': 'light rain', 'icon': '10d'}], 'base': 'stations', 'main': {'temp': 294.536, 'pressure': 1004.06, 'humidity': 94, 'temp_min': 294.536, 'temp_max': 294.536, 'sea_level': 1004.06, 'grnd_level': 977.45}, 'wind': {'speed': 1.57, 'deg': 154.037}, 'rain': {'3h': 0.375}, 'clouds': {'all': 94}, 'dt': 1564100763, 'sys': {'message': 0.0079, 'country': 'RU', 'sunrise': 1564083887, 'sunset': 1564137420}, 'timezone': 36000, 'id': 2025286, 'name': 'Chuguyevka', 'cod': 200}\n",
      "-------------------------\n",
      "Data Retrieval Complete\n",
      "-------------------------\n",
      "punta arenas\n",
      "{'coord': {'lon': -70.91, 'lat': -53.16}, 'weather': [{'id': 802, 'main': 'Clouds', 'description': 'scattered clouds', 'icon': '03n'}], 'base': 'stations', 'main': {'temp': 277.09, 'pressure': 996, 'humidity': 86, 'temp_min': 277.04, 'temp_max': 277.15}, 'visibility': 10000, 'wind': {'speed': 5.1, 'deg': 270}, 'clouds': {'all': 40}, 'dt': 1564100764, 'sys': {'type': 1, 'id': 8487, 'message': 0.008, 'country': 'CL', 'sunrise': 1564058242, 'sunset': 1564088558}, 'timezone': -10800, 'id': 3874787, 'name': 'Punta Arenas', 'cod': 200}\n",
      "-------------------------\n",
      "Data Retrieval Complete\n",
      "-------------------------\n"
     ]
    }
   ],
   "source": [
    "# create endpoint URL with each city\n",
    "city_url = url + \"&q=\" + urllib.request.pathname2url(city)\n",
    "url = f'https://api.openweathermap.org/data/2.5/weather?appid={api_key}&q='\n",
    "print('------------------------')\n",
    "print('Beginning Data Retrieval')\n",
    "print('------------------------') \n",
    "\n",
    "for city in cities[:10]:    \n",
    "    \n",
    "    print(city)\n",
    "    response = requests.get(url+city).json()\n",
    "    print(response)\n",
    "    \n",
    "#        cloudiness.append(response['clouds']['all'])\n",
    "#        country.append(response['sys']['country'])\n",
    "#        date.append(response['dt'])\n",
    "#        humidity.append(response['main']['humidity'])\n",
    "#        temp.append(response['main']['temp_max'])\n",
    "#        lat.append(response['coord']['lat'])\n",
    "#        lng.append(response['coord']['lon'])\n",
    "#        wind.append(response['wind']['speed'])\n",
    "#        new_cities.append(city)\n",
    "    \n",
    "#        print(\"City not found!\")\n",
    "#        pass\n",
    "    \n",
    "    print('-------------------------')\n",
    "    print('Data Retrieval Complete')\n",
    "    print('-------------------------')"
   ]
  },
  {
   "cell_type": "code",
   "execution_count": 22,
   "metadata": {},
   "outputs": [],
   "source": [
    "# List for holding lat_lngs and cities\n",
    "city_data = []\n",
    "\n",
    "# create a data frame from cities, lat, lng, cloudiness, date, humidity, and temp\n",
    "lat_lngs = []\n",
    "cities = []\n",
    "\n",
    "\n",
    "\n",
    "# Append the City information into city_data list\n",
    "weather_dict = {\n",
    "    \"city\": cities,\n",
    "    \"cloudiness\": cloudiness,\n",
    "    \"country\": country,\n",
    "    \"Date\": Date,\n",
    "    \"Humidity\": Humidity,\n",
    "    \"Temp\": Temp,\n",
    "    \"Lat\": Lat,\n",
    "    \"Lng\": Lng,\n",
    "}\n",
    "weather_data = pd.DataFrame(weather_dict)"
   ]
  },
  {
   "cell_type": "markdown",
   "metadata": {},
   "source": [
    "### Convert Raw Data to DataFrame\n",
    "* Export the city data into a .csv.\n",
    "* Display the DataFrame"
   ]
  },
  {
   "cell_type": "code",
   "execution_count": 27,
   "metadata": {},
   "outputs": [],
   "source": [
    "# List for holding lat_lngs and cities\n",
    "lat_lngs = []\n",
    "cities = []\n",
    "cloudiness = []\n",
    "country = []\n",
    "Date = []\n",
    "Humidity = []\n",
    "Temp = []\n",
    "Lat = []\n",
    "Lng = []\n",
    "\n",
    "# create a data frame from cities, lat, lng, cloudiness, date, humidity, and temp\n",
    "    \n",
    "weather_dict = {\n",
    "    \"city\": cities,\n",
    "    \"cloudiness\": cloudiness,\n",
    "    \"country\": country,\n",
    "    \"Date\": Date,\n",
    "    \"Humidity\": Humidity,\n",
    "    \"Temp\": Temp,\n",
    "    \"Lat\": Lat,\n",
    "    \"Lng\": Lng,\n",
    "}\n",
    "weather_data = pd.DataFrame(weather_dict)\n",
    "    "
   ]
  },
  {
   "cell_type": "code",
   "execution_count": 28,
   "metadata": {},
   "outputs": [
    {
     "data": {
      "text/html": [
       "<div>\n",
       "<style scoped>\n",
       "    .dataframe tbody tr th:only-of-type {\n",
       "        vertical-align: middle;\n",
       "    }\n",
       "\n",
       "    .dataframe tbody tr th {\n",
       "        vertical-align: top;\n",
       "    }\n",
       "\n",
       "    .dataframe thead th {\n",
       "        text-align: right;\n",
       "    }\n",
       "</style>\n",
       "<table border=\"1\" class=\"dataframe\">\n",
       "  <thead>\n",
       "    <tr style=\"text-align: right;\">\n",
       "      <th></th>\n",
       "      <th>city</th>\n",
       "      <th>cloudiness</th>\n",
       "      <th>country</th>\n",
       "      <th>Date</th>\n",
       "      <th>Humidity</th>\n",
       "      <th>Temp</th>\n",
       "      <th>Lat</th>\n",
       "      <th>Lng</th>\n",
       "    </tr>\n",
       "  </thead>\n",
       "  <tbody>\n",
       "  </tbody>\n",
       "</table>\n",
       "</div>"
      ],
      "text/plain": [
       "Empty DataFrame\n",
       "Columns: [city, cloudiness, country, Date, Humidity, Temp, Lat, Lng]\n",
       "Index: []"
      ]
     },
     "execution_count": 28,
     "metadata": {},
     "output_type": "execute_result"
    }
   ],
   "source": [
    "weather_data.head()"
   ]
  },
  {
   "cell_type": "code",
   "execution_count": 7,
   "metadata": {},
   "outputs": [
    {
     "ename": "FileNotFoundError",
     "evalue": "[Errno 2] No such file or directory: 'output_data/cities.csv'",
     "output_type": "error",
     "traceback": [
      "\u001b[1;31m---------------------------------------------------------------------------\u001b[0m",
      "\u001b[1;31mFileNotFoundError\u001b[0m                         Traceback (most recent call last)",
      "\u001b[1;32m<ipython-input-7-3678cd53ac3b>\u001b[0m in \u001b[0;36masync-def-wrapper\u001b[1;34m()\u001b[0m\n",
      "\u001b[1;32m~\\Anaconda3\\envs\\PythonClass\\lib\\site-packages\\pandas\\core\\generic.py\u001b[0m in \u001b[0;36mto_csv\u001b[1;34m(self, path_or_buf, sep, na_rep, float_format, columns, header, index, index_label, mode, encoding, compression, quoting, quotechar, line_terminator, chunksize, tupleize_cols, date_format, doublequote, escapechar, decimal)\u001b[0m\n\u001b[0;32m   3018\u001b[0m                                  \u001b[0mdoublequote\u001b[0m\u001b[1;33m=\u001b[0m\u001b[0mdoublequote\u001b[0m\u001b[1;33m,\u001b[0m\u001b[1;33m\u001b[0m\u001b[1;33m\u001b[0m\u001b[0m\n\u001b[0;32m   3019\u001b[0m                                  escapechar=escapechar, decimal=decimal)\n\u001b[1;32m-> 3020\u001b[1;33m         \u001b[0mformatter\u001b[0m\u001b[1;33m.\u001b[0m\u001b[0msave\u001b[0m\u001b[1;33m(\u001b[0m\u001b[1;33m)\u001b[0m\u001b[1;33m\u001b[0m\u001b[1;33m\u001b[0m\u001b[0m\n\u001b[0m\u001b[0;32m   3021\u001b[0m \u001b[1;33m\u001b[0m\u001b[0m\n\u001b[0;32m   3022\u001b[0m         \u001b[1;32mif\u001b[0m \u001b[0mpath_or_buf\u001b[0m \u001b[1;32mis\u001b[0m \u001b[1;32mNone\u001b[0m\u001b[1;33m:\u001b[0m\u001b[1;33m\u001b[0m\u001b[1;33m\u001b[0m\u001b[0m\n",
      "\u001b[1;32m~\\Anaconda3\\envs\\PythonClass\\lib\\site-packages\\pandas\\io\\formats\\csvs.py\u001b[0m in \u001b[0;36msave\u001b[1;34m(self)\u001b[0m\n\u001b[0;32m    155\u001b[0m             f, handles = _get_handle(self.path_or_buf, self.mode,\n\u001b[0;32m    156\u001b[0m                                      \u001b[0mencoding\u001b[0m\u001b[1;33m=\u001b[0m\u001b[0mself\u001b[0m\u001b[1;33m.\u001b[0m\u001b[0mencoding\u001b[0m\u001b[1;33m,\u001b[0m\u001b[1;33m\u001b[0m\u001b[1;33m\u001b[0m\u001b[0m\n\u001b[1;32m--> 157\u001b[1;33m                                      compression=self.compression)\n\u001b[0m\u001b[0;32m    158\u001b[0m             \u001b[0mclose\u001b[0m \u001b[1;33m=\u001b[0m \u001b[1;32mTrue\u001b[0m\u001b[1;33m\u001b[0m\u001b[1;33m\u001b[0m\u001b[0m\n\u001b[0;32m    159\u001b[0m \u001b[1;33m\u001b[0m\u001b[0m\n",
      "\u001b[1;32m~\\Anaconda3\\envs\\PythonClass\\lib\\site-packages\\pandas\\io\\common.py\u001b[0m in \u001b[0;36m_get_handle\u001b[1;34m(path_or_buf, mode, encoding, compression, memory_map, is_text)\u001b[0m\n\u001b[0;32m    422\u001b[0m         \u001b[1;32melif\u001b[0m \u001b[0mencoding\u001b[0m\u001b[1;33m:\u001b[0m\u001b[1;33m\u001b[0m\u001b[1;33m\u001b[0m\u001b[0m\n\u001b[0;32m    423\u001b[0m             \u001b[1;31m# Python 3 and encoding\u001b[0m\u001b[1;33m\u001b[0m\u001b[1;33m\u001b[0m\u001b[1;33m\u001b[0m\u001b[0m\n\u001b[1;32m--> 424\u001b[1;33m             \u001b[0mf\u001b[0m \u001b[1;33m=\u001b[0m \u001b[0mopen\u001b[0m\u001b[1;33m(\u001b[0m\u001b[0mpath_or_buf\u001b[0m\u001b[1;33m,\u001b[0m \u001b[0mmode\u001b[0m\u001b[1;33m,\u001b[0m \u001b[0mencoding\u001b[0m\u001b[1;33m=\u001b[0m\u001b[0mencoding\u001b[0m\u001b[1;33m,\u001b[0m \u001b[0mnewline\u001b[0m\u001b[1;33m=\u001b[0m\u001b[1;34m\"\"\u001b[0m\u001b[1;33m)\u001b[0m\u001b[1;33m\u001b[0m\u001b[1;33m\u001b[0m\u001b[0m\n\u001b[0m\u001b[0;32m    425\u001b[0m         \u001b[1;32melif\u001b[0m \u001b[0mis_text\u001b[0m\u001b[1;33m:\u001b[0m\u001b[1;33m\u001b[0m\u001b[1;33m\u001b[0m\u001b[0m\n\u001b[0;32m    426\u001b[0m             \u001b[1;31m# Python 3 and no explicit encoding\u001b[0m\u001b[1;33m\u001b[0m\u001b[1;33m\u001b[0m\u001b[1;33m\u001b[0m\u001b[0m\n",
      "\u001b[1;31mFileNotFoundError\u001b[0m: [Errno 2] No such file or directory: 'output_data/cities.csv'"
     ]
    }
   ],
   "source": [
    "# cities_list = zip(new_cities,cloudiness,country,date,humidity,temp,lat,lng)\n",
    "# Set variable for output fil\n",
    "# output_file = os.path.join('..', 'output_data', 'cities.csv')\n",
    "#  Open the output file\n",
    "# with open(output_file, 'w') as datafile:\n",
    "    weather_data.to_csv(output_data_file)"
   ]
  },
  {
   "cell_type": "markdown",
   "metadata": {},
   "source": [
    "### Plotting the Data\n",
    "* Use proper labeling of the plots using plot titles (including date of analysis) and axes labels.\n",
    "* Save the plotted figures as .pngs."
   ]
  },
  {
   "cell_type": "markdown",
   "metadata": {},
   "source": [
    "#### Latitude vs. Temperature Plot"
   ]
  },
  {
   "cell_type": "code",
   "execution_count": null,
   "metadata": {},
   "outputs": [],
   "source": [
    "Weather_data.plot(kind='scatter', x='Lat', y='Temp', c='DarkBlue')\n",
    "plt.title('City Latitude Vs Max Temperature ({})'.format(date) )\n",
    "plt.xlabel('Latitude')\n",
    "plt.ylabel('Max temperature (F)')\n",
    "plt.grid()\n",
    "plt.savefig(\"../Images/LatitudeVsTemperature.png\")"
   ]
  },
  {
   "cell_type": "markdown",
   "metadata": {},
   "source": [
    "#### Latitude vs. Humidity Plot"
   ]
  },
  {
   "cell_type": "code",
   "execution_count": null,
   "metadata": {},
   "outputs": [],
   "source": [
    "weather_data.plot(kind='scatter',x='Lat',y='Humidity'c='Darkblue')\n",
    "plt.title('City Latitude Vs Max Humidity ({})'.format(date) )\n",
    "plt.xlabel('Latitude')\n",
    "plt.ylabel('Humidity (%)')\n",
    "plt.grid()\n",
    "plt.savefig(\"../Images/LatitudeVsHumidity.png\")"
   ]
  },
  {
   "cell_type": "markdown",
   "metadata": {},
   "source": [
    "#### Latitude vs. Cloudiness Plot"
   ]
  },
  {
   "cell_type": "code",
   "execution_count": null,
   "metadata": {},
   "outputs": [],
   "source": [
    "weather_data.plot(kind='scatter',x='Lat',y='Cloudiness'c='Darkblue')\n",
    "plt.title('City Latitude Vs Max Cloudiness ({})'.format(date) )\n",
    "plt.xlabel('Latitude')\n",
    "plt.ylabel('Cloudiness (%)')\n",
    "plt.grid()\n",
    "plt.savefig(\"../Images/LatitudeVsHumidity.png\")"
   ]
  },
  {
   "cell_type": "markdown",
   "metadata": {},
   "source": [
    "#### Latitude vs. Wind Speed Plot"
   ]
  },
  {
   "cell_type": "code",
   "execution_count": null,
   "metadata": {},
   "outputs": [],
   "source": [
    "weather_data.plot(kind='scatter',x='Lat',y='Wind Speed'c='Darkblue')\n",
    "plt.title('City Latitude Vs Max Wind Speed ({})'.format(date) )\n",
    "plt.xlabel('Latitude')\n",
    "plt.ylabel('Wind Speed (%)')\n",
    "plt.grid()\n",
    "plt.savefig(\"../Images/LatitudeVsHumidity.png\")"
   ]
  }
 ],
 "metadata": {
  "anaconda-cloud": {},
  "kernel_info": {
   "name": "python3"
  },
  "kernelspec": {
   "display_name": "Python 3",
   "language": "python",
   "name": "python3"
  },
  "language_info": {
   "codemirror_mode": {
    "name": "ipython",
    "version": 3
   },
   "file_extension": ".py",
   "mimetype": "text/x-python",
   "name": "python",
   "nbconvert_exporter": "python",
   "pygments_lexer": "ipython3",
   "version": "3.6.8"
  },
  "nteract": {
   "version": "0.12.3"
  }
 },
 "nbformat": 4,
 "nbformat_minor": 2
}
