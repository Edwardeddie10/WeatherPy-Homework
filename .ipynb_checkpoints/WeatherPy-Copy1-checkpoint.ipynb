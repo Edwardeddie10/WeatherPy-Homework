{
 "cells": [
  {
   "cell_type": "markdown",
   "metadata": {},
   "source": [
    "# WeatherPy\n",
    "----\n",
    "\n",
    "#### Note\n",
    "* Instructions have been included for each segment. You do not have to follow them exactly, but they are included to help you think through the steps."
   ]
  },
  {
   "cell_type": "code",
   "execution_count": 1,
   "metadata": {
    "scrolled": true
   },
   "outputs": [],
   "source": [
    "# Dependencies and Setup\n",
    "import matplotlib.pyplot as plt\n",
    "import pandas as pd\n",
    "import numpy as np\n",
    "import requests\n",
    "import time\n",
    "\n",
    "# Import API key\n",
    "from api_keys import api_key\n",
    "\n",
    "# Incorporated citipy to determine city based on latitude and longitude\n",
    "from citipy import citipy\n",
    "\n",
    "# Output File (CSV)\n",
    "output_data_file = \"output_data/cities.csv\"\n",
    "\n",
    "# Range of latitudes and longitudes\n",
    "lat_range = (-90, 90)\n",
    "lng_range = (-180, 180)"
   ]
  },
  {
   "cell_type": "markdown",
   "metadata": {},
   "source": [
    "## Generate Cities List"
   ]
  },
  {
   "cell_type": "code",
   "execution_count": 2,
   "metadata": {},
   "outputs": [
    {
     "data": {
      "text/plain": [
       "610"
      ]
     },
     "execution_count": 2,
     "metadata": {},
     "output_type": "execute_result"
    }
   ],
   "source": [
    "# List for holding lat_lngs and cities\n",
    "lat_lngs = []\n",
    "cities = []\n",
    "cloudiness = []\n",
    "country = []\n",
    "Date = []\n",
    "Humidity = []\n",
    "Temp = []\n",
    "Lat = []\n",
    "Lng = []\n",
    "Wind_Speed = []\n",
    "\n",
    "\n",
    "# Create a set of random lat and lng combinations\n",
    "lats = np.random.uniform(low=-90.000, high=90.000, size=1500)\n",
    "lngs = np.random.uniform(low=-180.000, high=180.000, size=1500)\n",
    "lat_lngs = zip(lats, lngs)\n",
    "\n",
    "# Identify nearest city for each lat, lng combination\n",
    "for lat_lng in lat_lngs:\n",
    "    city = citipy.nearest_city(lat_lng[0], lat_lng[1]).city_name\n",
    "    \n",
    "    # If the city is unique, then add it to a our cities list\n",
    "    if city not in cities:\n",
    "        cities.append(city)\n",
    "\n",
    "# Print the city count to confirm sufficient count\n",
    "len(cities)"
   ]
  },
  {
   "cell_type": "markdown",
   "metadata": {},
   "source": [
    "### Perform API Calls\n",
    "* Perform a weather check on each city using a series of successive API calls.\n",
    "* Include a print log of each city as it'sbeing processed (with the city number and city name).\n"
   ]
  },
  {
   "cell_type": "code",
   "execution_count": 3,
   "metadata": {},
   "outputs": [
    {
     "name": "stdout",
     "output_type": "stream",
     "text": [
      "------------------------\n",
      "Beginning Data Retrieval\n",
      "------------------------\n",
      "kahului\n",
      "{'coord': {'lon': -156.47, 'lat': 20.89}, 'weather': [{'id': 802, 'main': 'Clouds', 'description': 'scattered clouds', 'icon': '03n'}], 'base': 'stations', 'main': {'temp': 299.93, 'pressure': 1014, 'humidity': 45, 'temp_min': 297.59, 'temp_max': 304.15}, 'visibility': 16093, 'wind': {'speed': 8.2, 'deg': 70, 'gust': 13.4}, 'clouds': {'all': 40}, 'dt': 1564028599, 'sys': {'type': 1, 'id': 7879, 'message': 0.0073, 'country': 'US', 'sunrise': 1563983805, 'sunset': 1564031262}, 'timezone': -36000, 'id': 5847411, 'name': 'Kahului', 'cod': 200}\n",
      "-------------------------\n",
      "Data Retrieval Complete\n",
      "-------------------------\n",
      "illoqqortoormiut\n",
      "{'cod': '404', 'message': 'city not found'}\n",
      "-------------------------\n",
      "Data Retrieval Complete\n",
      "-------------------------\n",
      "taksimo\n",
      "{'coord': {'lon': 114.84, 'lat': 56.36}, 'weather': [{'id': 802, 'main': 'Clouds', 'description': 'scattered clouds', 'icon': '03d'}], 'base': 'stations', 'main': {'temp': 294.49, 'pressure': 1000.72, 'humidity': 50, 'temp_min': 294.49, 'temp_max': 294.49, 'sea_level': 1000.72, 'grnd_level': 879.41}, 'wind': {'speed': 2.11, 'deg': 143.244}, 'clouds': {'all': 32}, 'dt': 1564028829, 'sys': {'message': 0.0055, 'country': 'RU', 'sunrise': 1563998907, 'sunset': 1564058731}, 'timezone': 28800, 'id': 2015701, 'name': 'Taksimo', 'cod': 200}\n",
      "-------------------------\n",
      "Data Retrieval Complete\n",
      "-------------------------\n",
      "talnakh\n",
      "{'coord': {'lon': 88.39, 'lat': 69.49}, 'weather': [{'id': 800, 'main': 'Clear', 'description': 'clear sky', 'icon': '01d'}], 'base': 'stations', 'main': {'temp': 289.15, 'pressure': 1006, 'humidity': 55, 'temp_min': 289.15, 'temp_max': 289.15}, 'visibility': 10000, 'wind': {'speed': 14, 'deg': 10}, 'clouds': {'all': 0}, 'dt': 1564028829, 'sys': {'type': 1, 'id': 8951, 'message': 0.0062, 'country': 'RU', 'sunrise': 0, 'sunset': 0}, 'timezone': 25200, 'id': 1490256, 'name': 'Talnakh', 'cod': 200}\n",
      "-------------------------\n",
      "Data Retrieval Complete\n",
      "-------------------------\n",
      "bredasdorp\n",
      "{'coord': {'lon': 20.04, 'lat': -34.53}, 'weather': [{'id': 800, 'main': 'Clear', 'description': 'clear sky', 'icon': '01n'}], 'base': 'stations', 'main': {'temp': 285.93, 'pressure': 1009, 'humidity': 70, 'temp_min': 285.93, 'temp_max': 285.93}, 'wind': {'speed': 1.79, 'deg': 194, 'gust': 3.13}, 'clouds': {'all': 0}, 'dt': 1564028830, 'sys': {'type': 3, 'id': 2006131, 'message': 0.0077, 'country': 'ZA', 'sunrise': 1564033135, 'sunset': 1564070008}, 'timezone': 7200, 'id': 1015776, 'name': 'Bredasdorp', 'cod': 200}\n",
      "-------------------------\n",
      "Data Retrieval Complete\n",
      "-------------------------\n",
      "xuddur\n",
      "{'coord': {'lon': 43.89, 'lat': 4.12}, 'weather': [{'id': 800, 'main': 'Clear', 'description': 'clear sky', 'icon': '01d'}], 'base': 'stations', 'main': {'temp': 293.28, 'pressure': 1012.73, 'humidity': 81, 'temp_min': 293.28, 'temp_max': 293.28, 'sea_level': 1012.73, 'grnd_level': 960.96}, 'wind': {'speed': 8.33, 'deg': 192.556}, 'clouds': {'all': 2}, 'dt': 1564028830, 'sys': {'message': 0.0089, 'country': 'SO', 'sunrise': 1564023680, 'sunset': 1564068016}, 'timezone': 10800, 'id': 49747, 'name': 'Xuddur', 'cod': 200}\n",
      "-------------------------\n",
      "Data Retrieval Complete\n",
      "-------------------------\n",
      "qaanaaq\n",
      "{'coord': {'lon': -69.36, 'lat': 77.48}, 'weather': [{'id': 802, 'main': 'Clouds', 'description': 'scattered clouds', 'icon': '03d'}], 'base': 'stations', 'main': {'temp': 280.63, 'pressure': 1016.26, 'humidity': 53, 'temp_min': 280.63, 'temp_max': 280.63, 'sea_level': 1016.26, 'grnd_level': 978.24}, 'wind': {'speed': 3.03, 'deg': 68.638}, 'clouds': {'all': 33}, 'dt': 1564028831, 'sys': {'message': 0.0073, 'country': 'GL', 'sunrise': 0, 'sunset': 0}, 'timezone': -10800, 'id': 3831208, 'name': 'Qaanaaq', 'cod': 200}\n",
      "-------------------------\n",
      "Data Retrieval Complete\n",
      "-------------------------\n",
      "westport\n",
      "{'coord': {'lon': -73.36, 'lat': 41.14}, 'weather': [{'id': 503, 'main': 'Rain', 'description': 'very heavy rain', 'icon': '10n'}], 'base': 'stations', 'main': {'temp': 291.64, 'pressure': 1018, 'humidity': 87, 'temp_min': 288.15, 'temp_max': 295.37}, 'visibility': 16093, 'wind': {'speed': 2.1, 'deg': 230}, 'rain': {'1h': 24.13}, 'clouds': {'all': 1}, 'dt': 1564028584, 'sys': {'type': 1, 'id': 3888, 'message': 0.011, 'country': 'US', 'sunrise': 1564047724, 'sunset': 1564100252}, 'timezone': -14400, 'id': 4845585, 'name': 'Westport', 'cod': 200}\n",
      "-------------------------\n",
      "Data Retrieval Complete\n",
      "-------------------------\n",
      "arlit\n",
      "{'coord': {'lon': 7.39, 'lat': 18.74}, 'weather': [{'id': 803, 'main': 'Clouds', 'description': 'broken clouds', 'icon': '04n'}], 'base': 'stations', 'main': {'temp': 305.69, 'pressure': 1008.85, 'humidity': 35, 'temp_min': 305.69, 'temp_max': 305.69, 'sea_level': 1008.85, 'grnd_level': 962.9}, 'wind': {'speed': 4.86, 'deg': 289.401}, 'clouds': {'all': 64}, 'dt': 1564028831, 'sys': {'message': 0.0057, 'country': 'NE', 'sunrise': 1564031106, 'sunset': 1564078109}, 'timezone': 3600, 'id': 2447513, 'name': 'Arlit', 'cod': 200}\n",
      "-------------------------\n",
      "Data Retrieval Complete\n",
      "-------------------------\n",
      "coquimbo\n",
      "{'coord': {'lon': -71.34, 'lat': -29.95}, 'weather': [{'id': 800, 'main': 'Clear', 'description': 'clear sky', 'icon': '01n'}], 'base': 'stations', 'main': {'temp': 281.15, 'pressure': 1024, 'humidity': 70, 'temp_min': 281.15, 'temp_max': 281.15}, 'visibility': 10000, 'wind': {'speed': 4.6, 'deg': 90}, 'clouds': {'all': 0}, 'dt': 1564028832, 'sys': {'type': 1, 'id': 8514, 'message': 0.0051, 'country': 'CL', 'sunrise': 1564054507, 'sunset': 1564092499}, 'timezone': -14400, 'id': 3893629, 'name': 'Coquimbo', 'cod': 200}\n",
      "-------------------------\n",
      "Data Retrieval Complete\n",
      "-------------------------\n"
     ]
    }
   ],
   "source": [
    "url = f'https://api.openweathermap.org/data/2.5/weather?appid={api_key}&q='\n",
    "print('------------------------')\n",
    "print('Beginning Data Retrieval')\n",
    "print('------------------------') \n",
    "\n",
    "for city in cities[:10]:    \n",
    "    \n",
    "    print(city)\n",
    "    response = requests.get(url+city).json()\n",
    "    print(response)\n",
    "    \n",
    "#        cloudiness.append(response['clouds']['all'])\n",
    "#        country.append(response['sys']['country'])\n",
    "#        date.append(response['dt'])\n",
    "#        humidity.append(response['main']['humidity'])\n",
    "#        temp.append(response['main']['temp_max'])\n",
    "#        lat.append(response['coord']['lat'])\n",
    "#        lng.append(response['coord']['lon'])\n",
    "#        wind.append(response['wind']['speed'])\n",
    "#        new_cities.append(city)\n",
    "    \n",
    "#        print(\"City not found!\")\n",
    "#        pass\n",
    "    \n",
    "    print('-------------------------')\n",
    "    print('Data Retrieval Complete')\n",
    "    print('-------------------------')"
   ]
  },
  {
   "cell_type": "code",
   "execution_count": 16,
   "metadata": {},
   "outputs": [],
   "source": [
    "# List for holding lat_lngs and cities\n",
    "lat_lngs = []\n",
    "cities = []\n",
    "\n",
    "# create a data frame from cities, lat, lng, cloudiness, date, humidity, and temp\n",
    "    \n",
    "weather_dict = {\n",
    "    \"city\": cities,\n",
    "}\n",
    "weather_data = pd.DataFrame(weather_dict)"
   ]
  },
  {
   "cell_type": "markdown",
   "metadata": {},
   "source": [
    "### Convert Raw Data to DataFrame\n",
    "* Export the city data into a .csv.\n",
    "* Display the DataFrame"
   ]
  },
  {
   "cell_type": "code",
   "execution_count": 19,
   "metadata": {},
   "outputs": [],
   "source": [
    "# List for holding lat_lngs and cities\n",
    "lat_lngs = []\n",
    "cities = []\n",
    "cloudiness = []\n",
    "country = []\n",
    "Date = []\n",
    "Humidity = []\n",
    "Temp = []\n",
    "Lat = []\n",
    "Lng = []\n",
    "\n",
    "# create a data frame from cities, lat, lng, cloudiness, date, humidity, and temp\n",
    "    \n",
    "weather_dict = {\n",
    "    \"city\": cities,\n",
    "    \"cloudiness\": cloudiness,\n",
    "    \"country\": country,\n",
    "    \"Date\": Date,\n",
    "    \"Humidity\": Humidity,\n",
    "    \"Temp\": Temp,\n",
    "    \"Lat\": Lat,\n",
    "    \"Lng\": Lng,\n",
    "}\n",
    "weather_data = pd.DataFrame(weather_dict)\n",
    "    "
   ]
  },
  {
   "cell_type": "code",
   "execution_count": 20,
   "metadata": {},
   "outputs": [
    {
     "data": {
      "text/html": [
       "<div>\n",
       "<style scoped>\n",
       "    .dataframe tbody tr th:only-of-type {\n",
       "        vertical-align: middle;\n",
       "    }\n",
       "\n",
       "    .dataframe tbody tr th {\n",
       "        vertical-align: top;\n",
       "    }\n",
       "\n",
       "    .dataframe thead th {\n",
       "        text-align: right;\n",
       "    }\n",
       "</style>\n",
       "<table border=\"1\" class=\"dataframe\">\n",
       "  <thead>\n",
       "    <tr style=\"text-align: right;\">\n",
       "      <th></th>\n",
       "      <th>city</th>\n",
       "      <th>cloudiness</th>\n",
       "      <th>country</th>\n",
       "      <th>Date</th>\n",
       "      <th>Humidity</th>\n",
       "      <th>Temp</th>\n",
       "      <th>Lat</th>\n",
       "      <th>Lng</th>\n",
       "    </tr>\n",
       "  </thead>\n",
       "  <tbody>\n",
       "  </tbody>\n",
       "</table>\n",
       "</div>"
      ],
      "text/plain": [
       "Empty DataFrame\n",
       "Columns: [city, cloudiness, country, Date, Humidity, Temp, Lat, Lng]\n",
       "Index: []"
      ]
     },
     "execution_count": 20,
     "metadata": {},
     "output_type": "execute_result"
    }
   ],
   "source": [
    "weather_data.head()"
   ]
  },
  {
   "cell_type": "code",
   "execution_count": null,
   "metadata": {},
   "outputs": [],
   "source": [
    "# cities_list = zip(new_cities,cloudiness,country,date,humidity,temp,lat,lng)\n",
    "# Set variable for output fil\n",
    "# output_file = os.path.join('..', 'output_data', 'cities.csv')\n",
    "#  Open the output file\n",
    "# with open(output_file, 'w') as datafile:\n",
    "    weather_data.to_csv(output_data_file)"
   ]
  },
  {
   "cell_type": "markdown",
   "metadata": {},
   "source": [
    "### Plotting the Data\n",
    "* Use proper labeling of the plots using plot titles (including date of analysis) and axes labels.\n",
    "* Save the plotted figures as .pngs."
   ]
  },
  {
   "cell_type": "markdown",
   "metadata": {},
   "source": [
    "#### Latitude vs. Temperature Plot"
   ]
  },
  {
   "cell_type": "code",
   "execution_count": null,
   "metadata": {},
   "outputs": [],
   "source": [
    "Weather_data.plot(kind='scatter', x='Lat', y='Temp', c='DarkBlue')\n",
    "plt.title('City Latitude Vs Max Temperature ({})'.format(date) )\n",
    "plt.xlabel('Latitude')\n",
    "plt.ylabel('Max temperature (F)')\n",
    "plt.grid()\n",
    "plt.savefig(\"../Images/LatitudeVsTemperature.png\")"
   ]
  },
  {
   "cell_type": "markdown",
   "metadata": {},
   "source": [
    "#### Latitude vs. Humidity Plot"
   ]
  },
  {
   "cell_type": "code",
   "execution_count": null,
   "metadata": {},
   "outputs": [],
   "source": [
    "weather_data.plot(kind='scatter',x='Lat',y='Humidity'c='Darkblue')\n",
    "plt.title('City Latitude Vs Max Humidity ({})'.format(date) )\n",
    "plt.xlabel('Latitude')\n",
    "plt.ylabel('Humidity (%)')\n",
    "plt.grid()\n",
    "plt.savefig(\"../Images/LatitudeVsHumidity.png\")"
   ]
  },
  {
   "cell_type": "markdown",
   "metadata": {},
   "source": [
    "#### Latitude vs. Cloudiness Plot"
   ]
  },
  {
   "cell_type": "code",
   "execution_count": null,
   "metadata": {},
   "outputs": [],
   "source": [
    "weather_data.plot(kind='scatter',x='Lat',y='Cloudiness'c='Darkblue')\n",
    "plt.title('City Latitude Vs Max Cloudiness ({})'.format(date) )\n",
    "plt.xlabel('Latitude')\n",
    "plt.ylabel('Cloudiness (%)')\n",
    "plt.grid()\n",
    "plt.savefig(\"../Images/LatitudeVsHumidity.png\")"
   ]
  },
  {
   "cell_type": "markdown",
   "metadata": {},
   "source": [
    "#### Latitude vs. Wind Speed Plot"
   ]
  },
  {
   "cell_type": "code",
   "execution_count": null,
   "metadata": {},
   "outputs": [],
   "source": [
    "weather_data.plot(kind='scatter',x='Lat',y='Wind Speed'c='Darkblue')\n",
    "plt.title('City Latitude Vs Max Wind Speed ({})'.format(date) )\n",
    "plt.xlabel('Latitude')\n",
    "plt.ylabel('Wind Speed (%)')\n",
    "plt.grid()\n",
    "plt.savefig(\"../Images/LatitudeVsHumidity.png\")"
   ]
  }
 ],
 "metadata": {
  "anaconda-cloud": {},
  "kernel_info": {
   "name": "python3"
  },
  "kernelspec": {
   "display_name": "Python 3",
   "language": "python",
   "name": "python3"
  },
  "language_info": {
   "codemirror_mode": {
    "name": "ipython",
    "version": 3
   },
   "file_extension": ".py",
   "mimetype": "text/x-python",
   "name": "python",
   "nbconvert_exporter": "python",
   "pygments_lexer": "ipython3",
   "version": "3.6.8"
  },
  "nteract": {
   "version": "0.12.3"
  }
 },
 "nbformat": 4,
 "nbformat_minor": 2
}
