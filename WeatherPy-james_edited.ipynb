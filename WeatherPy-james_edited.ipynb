{
 "cells": [
  {
   "cell_type": "markdown",
   "metadata": {},
   "source": [
    "# WeatherPy\n",
    "----\n",
    "\n",
    "#### Note\n",
    "* Instructions have been included for each segment. You do not have to follow them exactly, but they are included to help you think through the steps."
   ]
  },
  {
   "cell_type": "code",
   "execution_count": 1,
   "metadata": {
    "scrolled": true
   },
   "outputs": [],
   "source": [
    "# Dependencies and Setup\n",
    "import matplotlib.pyplot as plt\n",
    "import pandas as pd\n",
    "import numpy as np\n",
    "import requests\n",
    "import time\n",
    "import datetime\n",
    "\n",
    "# Import API key\n",
    "from api_keys import api_key\n",
    "\n",
    "# Incorporated citipy to determine city based on latitude and longitude\n",
    "from citipy import citipy\n",
    "\n",
    "# Output File (CSV)\n",
    "output_data_file = \"output_data/cities.csv\"\n",
    "\n",
    "# Range of latitudes and longitudes\n",
    "lat_range = (-90, 90)\n",
    "lng_range = (-180, 180)"
   ]
  },
  {
   "cell_type": "markdown",
   "metadata": {},
   "source": [
    "## Generate Cities List"
   ]
  },
  {
   "cell_type": "code",
   "execution_count": 2,
   "metadata": {},
   "outputs": [
    {
     "data": {
      "text/plain": [
       "574"
      ]
     },
     "execution_count": 2,
     "metadata": {},
     "output_type": "execute_result"
    }
   ],
   "source": [
    "# List for holding lat_lngs and cities\n",
    "lat_lngs = []\n",
    "cities = []\n",
    "\n",
    "# Create a set of random lat and lng combinations\n",
    "lats = np.random.uniform(low=-90.000, high=90.000, size=1500)\n",
    "lngs = np.random.uniform(low=-180.000, high=180.000, size=1500)\n",
    "lat_lngs = zip(lats, lngs)\n",
    "\n",
    "# Identify nearest city for each lat, lng combination\n",
    "for lat_lng in lat_lngs:\n",
    "    city = citipy.nearest_city(lat_lng[0], lat_lng[1]).city_name\n",
    "    \n",
    "    # If the city is unique, then add it to a our cities list\n",
    "    if city not in cities:\n",
    "        cities.append(city)\n",
    "\n",
    "# Print the city count to confirm sufficient count\n",
    "len(cities)"
   ]
  },
  {
   "cell_type": "markdown",
   "metadata": {},
   "source": [
    "### Perform API Calls\n",
    "* Perform a weather check on each city using a series of successive API calls.\n",
    "* Include a print log of each city as it'sbeing processed (with the city number and city name).\n"
   ]
  },
  {
   "cell_type": "code",
   "execution_count": 5,
   "metadata": {},
   "outputs": [
    {
     "name": "stdout",
     "output_type": "stream",
     "text": [
      "------------------------\n",
      "Beginning Data Retrieval\n",
      "------------------------\n",
      "{'coord': {'lon': 139, 'lat': 35}, 'weather': [{'id': 803, 'main': 'Clouds', 'description': 'broken clouds', 'icon': '04d'}], 'base': 'stations', 'main': {'temp': 301.8, 'pressure': 1007, 'humidity': 83, 'temp_min': 300.15, 'temp_max': 303.15}, 'visibility': 10000, 'wind': {'speed': 3.1, 'deg': 40}, 'clouds': {'all': 75}, 'dt': 1563928797, 'sys': {'type': 1, 'id': 8070, 'message': 0.0096, 'country': 'JP', 'sunrise': 1563911206, 'sunset': 1563962032}, 'timezone': 32400, 'id': 1851632, 'name': 'Shuzenji', 'cod': 200}\n",
      "noumea\n",
      "{'coord': {'lon': 166.46, 'lat': -22.28}, 'weather': [{'id': 803, 'main': 'Clouds', 'description': 'broken clouds', 'icon': '04d'}], 'base': 'stations', 'main': {'temp': 295.15, 'pressure': 1018, 'humidity': 49, 'temp_min': 295.15, 'temp_max': 295.15}, 'visibility': 10000, 'wind': {'speed': 5.7, 'deg': 150}, 'clouds': {'all': 75}, 'dt': 1563928900, 'sys': {'type': 1, 'id': 7344, 'message': 0.007, 'country': 'NC', 'sunrise': 1563910258, 'sunset': 1563949799}, 'timezone': 39600, 'id': 2139521, 'name': 'Noumea', 'cod': 200}\n",
      "punta arenas\n",
      "{'coord': {'lon': -70.91, 'lat': -53.16}, 'weather': [{'id': 802, 'main': 'Clouds', 'description': 'scattered clouds', 'icon': '03n'}], 'base': 'stations', 'main': {'temp': 273.15, 'pressure': 1018, 'humidity': 74, 'temp_min': 273.15, 'temp_max': 273.15}, 'visibility': 10000, 'wind': {'speed': 2.1, 'deg': 300}, 'clouds': {'all': 40}, 'dt': 1563928957, 'sys': {'type': 1, 'id': 8487, 'message': 0.006, 'country': 'CL', 'sunrise': 1563885608, 'sunset': 1563915585}, 'timezone': -10800, 'id': 3874787, 'name': 'Punta Arenas', 'cod': 200}\n",
      "praia da vitoria\n",
      "{'coord': {'lon': -27.07, 'lat': 38.73}, 'weather': [{'id': 801, 'main': 'Clouds', 'description': 'few clouds', 'icon': '02n'}], 'base': 'stations', 'main': {'temp': 296.16, 'pressure': 1014, 'humidity': 83, 'temp_min': 295.37, 'temp_max': 297.15}, 'visibility': 10000, 'wind': {'speed': 11.14, 'deg': 250.562}, 'clouds': {'all': 20}, 'dt': 1563928957, 'sys': {'type': 1, 'id': 6895, 'message': 0.0093, 'country': 'PT', 'sunrise': 1563950539, 'sunset': 1564002414}, 'timezone': 0, 'id': 3372760, 'name': 'Praia da Vitoria', 'cod': 200}\n",
      "popondetta\n",
      "{'coord': {'lon': 148.24, 'lat': -8.77}, 'weather': [{'id': 500, 'main': 'Rain', 'description': 'light rain', 'icon': '10d'}], 'base': 'stations', 'main': {'temp': 292.925, 'pressure': 1013.93, 'humidity': 95, 'temp_min': 292.925, 'temp_max': 292.925, 'sea_level': 1013.93, 'grnd_level': 902.83}, 'wind': {'speed': 1.15, 'deg': 22.182}, 'rain': {'3h': 0.313}, 'clouds': {'all': 99}, 'dt': 1563928958, 'sys': {'message': 0.0067, 'country': 'PG', 'sunrise': 1563913360, 'sunset': 1563955443}, 'timezone': 36000, 'id': 2088163, 'name': 'Popondetta', 'cod': 200}\n",
      "jamestown\n",
      "{'coord': {'lon': 138.6, 'lat': -33.21}, 'weather': [{'id': 500, 'main': 'Rain', 'description': 'light rain', 'icon': '10d'}], 'base': 'stations', 'main': {'temp': 284.025, 'pressure': 1026.11, 'humidity': 94, 'temp_min': 284.025, 'temp_max': 284.025, 'sea_level': 1026.11, 'grnd_level': 988.68}, 'wind': {'speed': 4.17, 'deg': 276.646}, 'rain': {'3h': 0.187}, 'clouds': {'all': 98}, 'dt': 1563928958, 'sys': {'message': 0.0068, 'country': 'AU', 'sunrise': 1563918164, 'sunset': 1563955266}, 'timezone': 34200, 'id': 2069194, 'name': 'Jamestown', 'cod': 200}\n",
      "kahului\n",
      "{'coord': {'lon': -156.47, 'lat': 20.89}, 'weather': [{'id': 801, 'main': 'Clouds', 'description': 'few clouds', 'icon': '02n'}], 'base': 'stations', 'main': {'temp': 301.34, 'pressure': 1015, 'humidity': 52, 'temp_min': 299.82, 'temp_max': 304.15}, 'visibility': 24140, 'wind': {'speed': 8.7, 'deg': 60, 'gust': 11.8}, 'clouds': {'all': 20}, 'dt': 1563928923, 'sys': {'type': 1, 'id': 7851, 'message': 0.0071, 'country': 'US', 'sunrise': 1563897381, 'sunset': 1563944882}, 'timezone': -36000, 'id': 5847411, 'name': 'Kahului', 'cod': 200}\n",
      "hambantota\n",
      "{'coord': {'lon': 81.12, 'lat': 6.12}, 'weather': [{'id': 804, 'main': 'Clouds', 'description': 'overcast clouds', 'icon': '04d'}], 'base': 'stations', 'main': {'temp': 300.025, 'pressure': 1008.27, 'humidity': 81, 'temp_min': 300.025, 'temp_max': 300.025, 'sea_level': 1008.27, 'grnd_level': 1007.9}, 'wind': {'speed': 7.03, 'deg': 265.366}, 'clouds': {'all': 98}, 'dt': 1563928959, 'sys': {'message': 0.0086, 'country': 'LK', 'sunrise': 1563928161, 'sunset': 1563972860}, 'timezone': 19800, 'id': 1244926, 'name': 'Hambantota', 'cod': 200}\n",
      "provideniya\n",
      "{'coord': {'lon': -173.23, 'lat': 64.42}, 'weather': [{'id': 804, 'main': 'Clouds', 'description': 'overcast clouds', 'icon': '04n'}], 'base': 'stations', 'main': {'temp': 284.15, 'pressure': 1007, 'humidity': 93, 'temp_min': 284.15, 'temp_max': 284.15}, 'visibility': 10000, 'wind': {'speed': 2, 'deg': 190}, 'clouds': {'all': 90}, 'dt': 1563928959, 'sys': {'type': 1, 'id': 8875, 'message': 0.008, 'country': 'RU', 'sunrise': 1563977459, 'sunset': 1564045653}, 'timezone': 43200, 'id': 4031574, 'name': 'Provideniya', 'cod': 200}\n",
      "nishihara\n",
      "{'coord': {'lon': 139.53, 'lat': 35.74}, 'weather': [{'id': 803, 'main': 'Clouds', 'description': 'broken clouds', 'icon': '04d'}], 'base': 'stations', 'main': {'temp': 301.22, 'pressure': 1007, 'humidity': 78, 'temp_min': 298.15, 'temp_max': 303.71}, 'visibility': 10000, 'wind': {'speed': 1.5, 'deg': 340}, 'clouds': {'all': 75}, 'dt': 1563928960, 'sys': {'type': 1, 'id': 8063, 'message': 0.0079, 'country': 'JP', 'sunrise': 1563910975, 'sunset': 1563962009}, 'timezone': 32400, 'id': 1850144, 'name': 'Nishihara', 'cod': 200}\n",
      "luderitz\n",
      "{'coord': {'lon': 15.16, 'lat': -26.65}, 'weather': [{'id': 802, 'main': 'Clouds', 'description': 'scattered clouds', 'icon': '03n'}], 'base': 'stations', 'main': {'temp': 285.15, 'pressure': 1022, 'humidity': 93, 'temp_min': 285.15, 'temp_max': 285.15}, 'wind': {'speed': 1, 'deg': 170}, 'clouds': {'all': 50}, 'dt': 1563928960, 'sys': {'type': 1, 'id': 2260, 'message': 0.0061, 'country': 'NA', 'sunrise': 1563947017, 'sunset': 1563985665}, 'timezone': 7200, 'id': 3355672, 'name': 'Luderitz', 'cod': 200}\n",
      "-------------------------\n",
      "Data Retrieval Complete\n",
      "-------------------------\n"
     ]
    }
   ],
   "source": [
    "url = f'https://api.openweathermap.org/data/2.5/weather?appid={api_key}&q='\n",
    "print('------------------------')\n",
    "print('Beginning Data Retrieval')\n",
    "print('------------------------') \n",
    "\n",
    "for city in cities[:10]:\n",
    "    \n",
    "    print(city)\n",
    "    response = requests.get(url+city).json()\n",
    "    print(response)\n",
    "    \n",
    "#     try:   \n",
    "#         cloudiness.append(response['clouds']['all'])\n",
    "#         country.append(response['sys']['country'])\n",
    "#         date.append(response['dt'])\n",
    "#         humidity.append(response['main']['humidity'])\n",
    "#         temp.append(response['main']['temp_max'])\n",
    "#         lat.append(response['coord']['lat'])\n",
    "#         lng.append(response['coord']['lon'])\n",
    "#         wind.append(response['wind']['speed'])\n",
    "#         new_cities.append(city)\n",
    "#     except:\n",
    "#         print(\"City not found!\")\n",
    "#         pass\n",
    "    \n",
    "print('-------------------------')\n",
    "print('Data Retrieval Complete')\n",
    "print('-------------------------')"
   ]
  },
  {
   "cell_type": "markdown",
   "metadata": {},
   "source": [
    "### Convert Raw Data to DataFrame\n",
    "* Export the city data into a .csv.\n",
    "* Display the DataFrame"
   ]
  },
  {
   "cell_type": "code",
   "execution_count": 8,
   "metadata": {},
   "outputs": [
    {
     "ename": "NameError",
     "evalue": "name 'new_cities' is not defined",
     "output_type": "error",
     "traceback": [
      "\u001b[1;31m---------------------------------------------------------------------------\u001b[0m",
      "\u001b[1;31mNameError\u001b[0m                                 Traceback (most recent call last)",
      "\u001b[1;32m<ipython-input-8-db872f408330>\u001b[0m in \u001b[0;36m<module>\u001b[1;34m\u001b[0m\n\u001b[0;32m      1\u001b[0m weather_dict = {\n\u001b[1;32m----> 2\u001b[1;33m     \u001b[1;34m\"City\"\u001b[0m\u001b[1;33m:\u001b[0m \u001b[0mnew_cities\u001b[0m\u001b[1;33m,\u001b[0m\u001b[1;33m\u001b[0m\u001b[1;33m\u001b[0m\u001b[0m\n\u001b[0m\u001b[0;32m      3\u001b[0m     \u001b[1;34m\"Cloudiness\"\u001b[0m \u001b[1;33m:\u001b[0m \u001b[0mcloudiness\u001b[0m\u001b[1;33m,\u001b[0m\u001b[1;33m\u001b[0m\u001b[1;33m\u001b[0m\u001b[0m\n\u001b[0;32m      4\u001b[0m     \u001b[1;34m\"Country\"\u001b[0m \u001b[1;33m:\u001b[0m \u001b[0mcountry\u001b[0m\u001b[1;33m,\u001b[0m\u001b[1;33m\u001b[0m\u001b[1;33m\u001b[0m\u001b[0m\n\u001b[0;32m      5\u001b[0m     \u001b[1;34m\"Date\"\u001b[0m \u001b[1;33m:\u001b[0m \u001b[0mdate\u001b[0m\u001b[1;33m,\u001b[0m\u001b[1;33m\u001b[0m\u001b[1;33m\u001b[0m\u001b[0m\n",
      "\u001b[1;31mNameError\u001b[0m: name 'new_cities' is not defined"
     ]
    }
   ],
   "source": [
    "weather_dict = {\n",
    "    \"City\": new_cities,\n",
    "    \"Cloudiness\" : cloudiness,\n",
    "    \"Country\" : country,\n",
    "    \"Date\" : date,\n",
    "    \"Humidity\" : humidity,\n",
    "    \"Temp\": temp,\n",
    "    \"Lat\" : lat,\n",
    "    \"Lng\" : lng,   \n",
    "    \"Wind Speed\" : wind\n",
    "}\n",
    "weather_data = pd.DataFrame(weather_dict)\n",
    "weather_data.count()"
   ]
  },
  {
   "cell_type": "code",
   "execution_count": 9,
   "metadata": {},
   "outputs": [
    {
     "ename": "NameError",
     "evalue": "name 'weather_data' is not defined",
     "output_type": "error",
     "traceback": [
      "\u001b[1;31m---------------------------------------------------------------------------\u001b[0m",
      "\u001b[1;31mNameError\u001b[0m                                 Traceback (most recent call last)",
      "\u001b[1;32m<ipython-input-9-6b5706602c09>\u001b[0m in \u001b[0;36m<module>\u001b[1;34m\u001b[0m\n\u001b[1;32m----> 1\u001b[1;33m \u001b[0mweather_data\u001b[0m\u001b[1;33m.\u001b[0m\u001b[0mhead\u001b[0m\u001b[1;33m(\u001b[0m\u001b[1;33m)\u001b[0m\u001b[1;33m\u001b[0m\u001b[1;33m\u001b[0m\u001b[0m\n\u001b[0m",
      "\u001b[1;31mNameError\u001b[0m: name 'weather_data' is not defined"
     ]
    }
   ],
   "source": [
    "weather_data.head()"
   ]
  },
  {
   "cell_type": "code",
   "execution_count": null,
   "metadata": {},
   "outputs": [],
   "source": [
    "# cities_list = zip(new_cities,cloudiness,country,date,humidity,temp,lat,lng)\n",
    "# # Set variable for output file\n",
    "# output_file = os.path.join('..', 'output_data', 'cities.csv')\n",
    "# #  Open the output file\n",
    "# with open(output_file, 'w') as datafile:\n",
    "weather_data.to_csv(output_file)"
   ]
  },
  {
   "cell_type": "code",
   "execution_count": null,
   "metadata": {},
   "outputs": [],
   "source": [
    "import datetime\n",
    "date = datetime.datetime.fromtimestamp(int(weather_data['Date'][0])).strftime('%m/%d/%Y')"
   ]
  },
  {
   "cell_type": "markdown",
   "metadata": {},
   "source": [
    "### Plotting the Data\n",
    "* Use proper labeling of the plots using plot titles (including date of analysis) and axes labels.\n",
    "* Save the plotted figures as .pngs."
   ]
  },
  {
   "cell_type": "markdown",
   "metadata": {},
   "source": [
    "#### Latitude vs. Temperature Plot"
   ]
  },
  {
   "cell_type": "code",
   "execution_count": 10,
   "metadata": {},
   "outputs": [
    {
     "ename": "NameError",
     "evalue": "name 'new_cities' is not defined",
     "output_type": "error",
     "traceback": [
      "\u001b[1;31m---------------------------------------------------------------------------\u001b[0m",
      "\u001b[1;31mNameError\u001b[0m                                 Traceback (most recent call last)",
      "\u001b[1;32m<ipython-input-10-0efe4a0a8056>\u001b[0m in \u001b[0;36m<module>\u001b[1;34m\u001b[0m\n\u001b[1;32m----> 1\u001b[1;33m \u001b[0mcities_list\u001b[0m \u001b[1;33m=\u001b[0m \u001b[0mzip\u001b[0m\u001b[1;33m(\u001b[0m\u001b[0mnew_cities\u001b[0m\u001b[1;33m,\u001b[0m\u001b[0mcloudiness\u001b[0m\u001b[1;33m,\u001b[0m\u001b[0mcountry\u001b[0m\u001b[1;33m,\u001b[0m\u001b[0mdate\u001b[0m\u001b[1;33m,\u001b[0m\u001b[0mhumidity\u001b[0m\u001b[1;33m,\u001b[0m\u001b[0mtemp\u001b[0m\u001b[1;33m,\u001b[0m\u001b[0mlat\u001b[0m\u001b[1;33m,\u001b[0m\u001b[0mlng\u001b[0m\u001b[1;33m)\u001b[0m\u001b[1;33m\u001b[0m\u001b[1;33m\u001b[0m\u001b[0m\n\u001b[0m\u001b[0;32m      2\u001b[0m \u001b[1;31m# Set variable for output file\u001b[0m\u001b[1;33m\u001b[0m\u001b[1;33m\u001b[0m\u001b[1;33m\u001b[0m\u001b[0m\n\u001b[0;32m      3\u001b[0m \u001b[0moutput_file\u001b[0m \u001b[1;33m=\u001b[0m \u001b[0mos\u001b[0m\u001b[1;33m.\u001b[0m\u001b[0mpath\u001b[0m\u001b[1;33m.\u001b[0m\u001b[0mjoin\u001b[0m\u001b[1;33m(\u001b[0m\u001b[1;34m'..'\u001b[0m\u001b[1;33m,\u001b[0m \u001b[1;34m'output_data'\u001b[0m\u001b[1;33m,\u001b[0m \u001b[1;34m'cities.csv'\u001b[0m\u001b[1;33m)\u001b[0m\u001b[1;33m\u001b[0m\u001b[1;33m\u001b[0m\u001b[0m\n\u001b[0;32m      4\u001b[0m \u001b[1;31m#  Open the output file\u001b[0m\u001b[1;33m\u001b[0m\u001b[1;33m\u001b[0m\u001b[1;33m\u001b[0m\u001b[0m\n\u001b[0;32m      5\u001b[0m \u001b[1;32mwith\u001b[0m \u001b[0mopen\u001b[0m\u001b[1;33m(\u001b[0m\u001b[0moutput_file\u001b[0m\u001b[1;33m,\u001b[0m \u001b[1;34m'w'\u001b[0m\u001b[1;33m)\u001b[0m \u001b[1;32mas\u001b[0m \u001b[0mdatafile\u001b[0m\u001b[1;33m:\u001b[0m\u001b[1;33m\u001b[0m\u001b[1;33m\u001b[0m\u001b[0m\n",
      "\u001b[1;31mNameError\u001b[0m: name 'new_cities' is not defined"
     ]
    }
   ],
   "source": [
    "Weather_data.plot(kind='scatter', x='Lat', y='Temp', c='DarkBlue')\n",
    "plt.title('City Latitude Vs Max Temperature ({})'.format(date) )\n",
    "plt.xlabel('Latitude')\n",
    "plt.ylabel('Max temperature (F)')\n",
    "plt.grid()\n",
    "plt.savefig(\"../Images/LatitudeVsTemperature.png\")"
   ]
  },
  {
   "cell_type": "markdown",
   "metadata": {},
   "source": [
    "#### Latitude vs. Humidity Plot"
   ]
  },
  {
   "cell_type": "code",
   "execution_count": null,
   "metadata": {},
   "outputs": [],
   "source": [
    "weather_data.plot(kind='scatter',x='Lat',y='Humidity'c='Darkblue')\n",
    "plt.title('City Latitude Vs Max Humidity ({})'.format(date) )\n",
    "plt.xlabel('Latitude')\n",
    "plt.ylabel('Humidity (%)')\n",
    "plt.grid()\n",
    "plt.savefig(\"../Images/LatitudeVsHumidity.png\")"
   ]
  },
  {
   "cell_type": "markdown",
   "metadata": {},
   "source": [
    "#### Latitude vs. Cloudiness Plot"
   ]
  },
  {
   "cell_type": "code",
   "execution_count": null,
   "metadata": {},
   "outputs": [],
   "source": []
  },
  {
   "cell_type": "markdown",
   "metadata": {},
   "source": [
    "#### Latitude vs. Wind Speed Plot"
   ]
  },
  {
   "cell_type": "code",
   "execution_count": null,
   "metadata": {},
   "outputs": [],
   "source": []
  }
 ],
 "metadata": {
  "anaconda-cloud": {},
  "kernel_info": {
   "name": "python3"
  },
  "kernelspec": {
   "display_name": "Python 3",
   "language": "python",
   "name": "python3"
  },
  "language_info": {
   "codemirror_mode": {
    "name": "ipython",
    "version": 3
   },
   "file_extension": ".py",
   "mimetype": "text/x-python",
   "name": "python",
   "nbconvert_exporter": "python",
   "pygments_lexer": "ipython3",
   "version": "3.6.8"
  },
  "nteract": {
   "version": "0.12.3"
  }
 },
 "nbformat": 4,
 "nbformat_minor": 2
}
